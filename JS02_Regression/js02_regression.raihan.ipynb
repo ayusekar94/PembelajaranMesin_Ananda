{
 "cells": [
  {
   "cell_type": "code",
   "execution_count": 1,
   "metadata": {},
   "outputs": [],
   "source": [
    "import numpy as np\n",
    "import pandas as pd"
   ]
  },
  {
   "cell_type": "code",
   "execution_count": 2,
   "metadata": {},
   "outputs": [],
   "source": [
    "df = pd.read_csv('Salary_Data.csv')\n",
    "\n",
    "# head() untuk menampilkan 5 data teratas\n",
    "# df.head()\n",
    "\n",
    "# info() untuk mengcek data ada berapa dan ada null\n",
    "# df.info()\n",
    "\n",
    "#describe() return decription of the data in the DataFrame\n",
    "# df.describe()\n",
    "\n",
    "# # \n",
    "# df['YearsExperience']\n",
    "\n",
    "#\n",
    "# df.columns\n",
    "\n",
    "# index location (: = semua)\n",
    "x = df.iloc[:,0].values\n",
    "y = df.iloc[:,-1].values"
   ]
  },
  {
   "cell_type": "code",
   "execution_count": 3,
   "metadata": {},
   "outputs": [],
   "source": [
    "x = x.reshape(len(x), 1)\n",
    "y = y.reshape(len(y), 1)"
   ]
  },
  {
   "cell_type": "code",
   "execution_count": 4,
   "metadata": {},
   "outputs": [
    {
     "name": "stdout",
     "output_type": "stream",
     "text": [
      "[[ 1.1]\n",
      " [ 1.3]\n",
      " [ 1.5]\n",
      " [ 2. ]\n",
      " [ 2.2]\n",
      " [ 2.9]\n",
      " [ 3. ]\n",
      " [ 3.2]\n",
      " [ 3.2]\n",
      " [ 3.7]\n",
      " [ 3.9]\n",
      " [ 4. ]\n",
      " [ 4. ]\n",
      " [ 4.1]\n",
      " [ 4.5]\n",
      " [ 4.9]\n",
      " [ 5.1]\n",
      " [ 5.3]\n",
      " [ 5.9]\n",
      " [ 6. ]\n",
      " [ 6.8]\n",
      " [ 7.1]\n",
      " [ 7.9]\n",
      " [ 8.2]\n",
      " [ 8.7]\n",
      " [ 9. ]\n",
      " [ 9.5]\n",
      " [ 9.6]\n",
      " [10.3]\n",
      " [10.5]]\n",
      "[[ 39343.]\n",
      " [ 46205.]\n",
      " [ 37731.]\n",
      " [ 43525.]\n",
      " [ 39891.]\n",
      " [ 56642.]\n",
      " [ 60150.]\n",
      " [ 54445.]\n",
      " [ 64445.]\n",
      " [ 57189.]\n",
      " [ 63218.]\n",
      " [ 55794.]\n",
      " [ 56957.]\n",
      " [ 57081.]\n",
      " [ 61111.]\n",
      " [ 67938.]\n",
      " [ 66029.]\n",
      " [ 83088.]\n",
      " [ 81363.]\n",
      " [ 93940.]\n",
      " [ 91738.]\n",
      " [ 98273.]\n",
      " [101302.]\n",
      " [113812.]\n",
      " [109431.]\n",
      " [105582.]\n",
      " [116969.]\n",
      " [112635.]\n",
      " [122391.]\n",
      " [121872.]]\n"
     ]
    }
   ],
   "source": [
    "print(x)\n",
    "print(y)"
   ]
  },
  {
   "cell_type": "code",
   "execution_count": 5,
   "metadata": {},
   "outputs": [],
   "source": [
    "from sklearn.model_selection import train_test_split\n",
    "\n",
    "x_train, x_test, y_train, y_test = train_test_split(x, y, test_size = 0.2, random_state = 40)"
   ]
  },
  {
   "cell_type": "code",
   "execution_count": 6,
   "metadata": {},
   "outputs": [],
   "source": [
    "from sklearn.linear_model import LinearRegression\n",
    "\n",
    "lr = LinearRegression()\n",
    "lr.fit(x_train, y_train)\n",
    "\n",
    "y_pred = lr.predict(x_test)"
   ]
  },
  {
   "cell_type": "code",
   "execution_count": 7,
   "metadata": {},
   "outputs": [
    {
     "name": "stdout",
     "output_type": "stream",
     "text": [
      "[[41434.13316677]\n",
      " [74801.31604849]\n",
      " [83143.11176892]\n",
      " [69240.11890153]\n",
      " [72947.58366617]\n",
      " [65532.6541369 ]]\n",
      "[[37731.]\n",
      " [66029.]\n",
      " [93940.]\n",
      " [61111.]\n",
      " [67938.]\n",
      " [57081.]]\n"
     ]
    }
   ],
   "source": [
    "print(y_pred)\n",
    "print(y_test)"
   ]
  },
  {
   "cell_type": "code",
   "execution_count": 8,
   "metadata": {},
   "outputs": [
    {
     "data": {
      "image/png": "[encoded data removed]",
      "text/plain": [
       "<Figure size 432x288 with 1 Axes>"
      ]
     },
     "metadata": {
      "needs_background": "light"
     },
     "output_type": "display_data"
    }
   ],
   "source": [
    "import matplotlib.pyplot as plt\n",
    "\n",
    "plt.scatter(x_train, y_train, color='blue')\n",
    "plt.plot(x_train, lr.predict(x_train), color='red')\n",
    "plt.scatter(x_test, y_pred, color = 'green')\n",
    "plt.show()"
   ]
  },
  {
   "cell_type": "code",
   "execution_count": 9,
   "metadata": {},
   "outputs": [
    {
     "data": {
      "image/png": "[encoded data removed]",
      "text/plain": [
       "<Figure size 432x288 with 1 Axes>"
      ]
     },
     "metadata": {
      "needs_background": "light"
     },
     "output_type": "display_data"
    }
   ],
   "source": [
    "# Visualisasi data Testing\n",
    "plt.scatter(x_test, y_test, color='blue')\n",
    "plt.plot(x_train, lr.predict(x_train), color='red') # Regresion Line\n",
    "# plt.scatter(x_test, y_pred, color = 'green')\n",
    "plt.show()"
   ]
  },
  {
   "cell_type": "code",
   "execution_count": 10,
   "metadata": {},
   "outputs": [
    {
     "name": "stdout",
     "output_type": "stream",
     "text": [
      "Hasil dari MAE : 7477.115691823833\n",
      "Hasil dari MSE : 61641413.308879755\n",
      "Hasil dari RMSE : 7851.2045769346605\n",
      "Hasil dari R2 : 0.7775083459037235\n"
     ]
    }
   ],
   "source": [
    "# https://scikit-learn.org/0.21/modules/generated/sklearn.metrics.mean_absolute_error.html#sklearn.metrics.mean_absolute_error\n",
    "from sklearn.metrics import mean_absolute_error, mean_squared_error, r2_score\n",
    "\n",
    "mae_value = mean_absolute_error(y_test, y_pred)\n",
    "mse_value = mean_squared_error(y_test, y_pred)\n",
    "rmse_value = mean_squared_error(y_test, y_pred, squared = False)\n",
    "r2_value = r2_score(y_test, y_pred)\n",
    "print(f'Hasil dari MAE : {mae_value}')\n",
    "print(f'Hasil dari MSE : {mse_value}')\n",
    "print(f'Hasil dari RMSE : {rmse_value}')\n",
    "print(f'Hasil dari R2 : {r2_value}')"
   ]
  },
  {
   "cell_type": "code",
   "execution_count": 11,
   "metadata": {},
   "outputs": [
    {
     "data": {
      "text/html": [
       "<div>\n",
       "<style scoped>\n",
       "    .dataframe tbody tr th:only-of-type {\n",
       "        vertical-align: middle;\n",
       "    }\n",
       "\n",
       "    .dataframe tbody tr th {\n",
       "        vertical-align: top;\n",
       "    }\n",
       "\n",
       "    .dataframe thead th {\n",
       "        text-align: right;\n",
       "    }\n",
       "</style>\n",
       "<table border=\"1\" class=\"dataframe\">\n",
       "  <thead>\n",
       "    <tr style=\"text-align: right;\">\n",
       "      <th></th>\n",
       "      <th>R&amp;D Spend</th>\n",
       "      <th>Administration</th>\n",
       "      <th>Marketing Spend</th>\n",
       "      <th>Profit</th>\n",
       "    </tr>\n",
       "  </thead>\n",
       "  <tbody>\n",
       "    <tr>\n",
       "      <th>0</th>\n",
       "      <td>165349.20</td>\n",
       "      <td>136897.80</td>\n",
       "      <td>471784.10</td>\n",
       "      <td>192261.83</td>\n",
       "    </tr>\n",
       "    <tr>\n",
       "      <th>1</th>\n",
       "      <td>162597.70</td>\n",
       "      <td>151377.59</td>\n",
       "      <td>443898.53</td>\n",
       "      <td>191792.06</td>\n",
       "    </tr>\n",
       "    <tr>\n",
       "      <th>2</th>\n",
       "      <td>153441.51</td>\n",
       "      <td>101145.55</td>\n",
       "      <td>407934.54</td>\n",
       "      <td>191050.39</td>\n",
       "    </tr>\n",
       "    <tr>\n",
       "      <th>3</th>\n",
       "      <td>144372.41</td>\n",
       "      <td>118671.85</td>\n",
       "      <td>383199.62</td>\n",
       "      <td>182901.99</td>\n",
       "    </tr>\n",
       "    <tr>\n",
       "      <th>4</th>\n",
       "      <td>142107.34</td>\n",
       "      <td>91391.77</td>\n",
       "      <td>366168.42</td>\n",
       "      <td>166187.94</td>\n",
       "    </tr>\n",
       "  </tbody>\n",
       "</table>\n",
       "</div>"
      ],
      "text/plain": [
       "   R&D Spend  Administration  Marketing Spend     Profit\n",
       "0  165349.20       136897.80        471784.10  192261.83\n",
       "1  162597.70       151377.59        443898.53  191792.06\n",
       "2  153441.51       101145.55        407934.54  191050.39\n",
       "3  144372.41       118671.85        383199.62  182901.99\n",
       "4  142107.34        91391.77        366168.42  166187.94"
      ]
     },
     "execution_count": 11,
     "metadata": {},
     "output_type": "execute_result"
    }
   ],
   "source": [
    "# Data startup \n",
    "\n",
    "df2 = pd.read_csv('50_Startups.csv')\n",
    "# df2.head()\n",
    "df2_drop = df2.copy()\n",
    "df2_drop = df2_drop.drop('State', axis = 1)\n",
    "df2_drop.head()"
   ]
  },
  {
   "cell_type": "code",
   "execution_count": 13,
   "metadata": {},
   "outputs": [],
   "source": [
    "x = df2_drop.iloc[:, :-1].values\n",
    "y = df2_drop.iloc[:, -1].values"
   ]
  },
  {
   "cell_type": "code",
   "execution_count": 14,
   "metadata": {},
   "outputs": [
    {
     "data": {
      "text/plain": [
       "(50, 1)"
      ]
     },
     "execution_count": 14,
     "metadata": {},
     "output_type": "execute_result"
    }
   ],
   "source": [
    "y = y.reshape(len(y), 1)\n",
    "y.shape"
   ]
  },
  {
   "cell_type": "code",
   "execution_count": 15,
   "metadata": {},
   "outputs": [],
   "source": [
    "xm_train, xm_test, ym_train, ym_test = train_test_split(x,y, test_size= 0.2, random_state=50)"
   ]
  },
  {
   "cell_type": "code",
   "execution_count": 16,
   "metadata": {},
   "outputs": [],
   "source": [
    "mlr = LinearRegression()\n",
    "mlr.fit(xm_train, ym_train)\n",
    "\n",
    "ym_pred = mlr.predict(xm_test)"
   ]
  },
  {
   "cell_type": "code",
   "execution_count": 17,
   "metadata": {},
   "outputs": [
    {
     "data": {
      "text/plain": [
       "array([[ 96712.8       ,  85723.20720434],\n",
       "       [ 90708.19      ,  71782.82357403],\n",
       "       [191792.06      , 187778.99777284],\n",
       "       [ 81229.06      ,  67022.7584117 ],\n",
       "       [152211.77      , 150473.42861557],\n",
       "       [126992.93      , 114826.981054  ],\n",
       "       [ 96479.51      ,  88420.06912367],\n",
       "       [134307.35      , 126005.31751045],\n",
       "       [101004.64      , 101029.07536881],\n",
       "       [108552.04      , 113478.21960058]])"
      ]
     },
     "execution_count": 17,
     "metadata": {},
     "output_type": "execute_result"
    }
   ],
   "source": [
    "gabung = np.concatenate((ym_test, ym_pred), axis = 1)\n",
    "gabung"
   ]
  },
  {
   "cell_type": "code",
   "execution_count": 18,
   "metadata": {},
   "outputs": [
    {
     "name": "stdout",
     "output_type": "stream",
     "text": [
      "0.9028338938059199\n"
     ]
    }
   ],
   "source": [
    "r2_mlr = r2_score(ym_test, ym_pred)\n",
    "print(r2_mlr)\n",
    "\n",
    "# Column Transformers"
   ]
  },
  {
   "cell_type": "code",
   "execution_count": 19,
   "metadata": {},
   "outputs": [
    {
     "name": "stdout",
     "output_type": "stream",
     "text": [
      "   onehotencoder__x0_California  onehotencoder__x0_Florida  \\\n",
      "0                           0.0                        0.0   \n",
      "1                           1.0                        0.0   \n",
      "2                           0.0                        1.0   \n",
      "3                           0.0                        0.0   \n",
      "4                           0.0                        1.0   \n",
      "\n",
      "   onehotencoder__x0_New York  R&D Spend  Administration  Marketing Spend  \\\n",
      "0                         1.0  165349.20       136897.80        471784.10   \n",
      "1                         0.0  162597.70       151377.59        443898.53   \n",
      "2                         0.0  153441.51       101145.55        407934.54   \n",
      "3                         1.0  144372.41       118671.85        383199.62   \n",
      "4                         0.0  142107.34        91391.77        366168.42   \n",
      "\n",
      "      Profit  \n",
      "0  192261.83  \n",
      "1  191792.06  \n",
      "2  191050.39  \n",
      "3  182901.99  \n",
      "4  166187.94  \n"
     ]
    }
   ],
   "source": [
    "# Data startup \n",
    "from sklearn.preprocessing import OneHotEncoder\n",
    "from sklearn.compose import make_column_transformer\n",
    "import pandas as pd\n",
    "\n",
    "df3 = pd.read_csv('50_Startups.csv')\n",
    "# df3 = df[['State']]\n",
    "# df3 = df.dropna()\n",
    "\n",
    "transformer = make_column_transformer(\n",
    "    (OneHotEncoder(), ['State']),\n",
    "    remainder='passthrough')\n",
    "\n",
    "transformed = transformer.fit_transform(df3)\n",
    "transformed_df = pd.DataFrame(transformed, columns=transformer.get_feature_names())\n",
    "print(transformed_df.head())\n",
    "\n",
    "# df2.head()\n",
    "# df2_drop = df2.copy()\n",
    "# df2_drop = df2_drop.drop('State', axis = 1)\n",
    "# ohe = OneHotEncoder()\n",
    "\n",
    "# df3.head()"
   ]
  },
  {
   "cell_type": "code",
   "execution_count": 20,
   "metadata": {},
   "outputs": [],
   "source": [
    "x2 = transformed_df.iloc[:, :-1].values\n",
    "y2 = transformed_df.iloc[:, -1].values"
   ]
  },
  {
   "cell_type": "code",
   "execution_count": 21,
   "metadata": {},
   "outputs": [
    {
     "data": {
      "text/plain": [
       "(50, 1)"
      ]
     },
     "execution_count": 21,
     "metadata": {},
     "output_type": "execute_result"
    }
   ],
   "source": [
    "y2 = y2.reshape(len(y2), 1)\n",
    "y2.shape"
   ]
  },
  {
   "cell_type": "code",
   "execution_count": 22,
   "metadata": {},
   "outputs": [],
   "source": [
    "xm2_train, xm2_test, ym2_train, ym2_test = train_test_split(x2,y2, test_size= 0.2, random_state=50)"
   ]
  },
  {
   "cell_type": "code",
   "execution_count": 23,
   "metadata": {},
   "outputs": [],
   "source": [
    "mlr2 = LinearRegression()\n",
    "mlr2.fit(xm2_train, ym2_train)\n",
    "\n",
    "ym2_pred = mlr2.predict(xm2_test)"
   ]
  },
  {
   "cell_type": "code",
   "execution_count": 24,
   "metadata": {},
   "outputs": [
    {
     "data": {
      "text/plain": [
       "array([[ 96712.8       ,  84457.16115252],\n",
       "       [ 90708.19      ,  72543.44544734],\n",
       "       [191792.06      , 186070.97934498],\n",
       "       [ 81229.06      ,  67431.79651296],\n",
       "       [152211.77      , 150237.4771915 ],\n",
       "       [126992.93      , 113635.43439889],\n",
       "       [ 96479.51      ,  88703.00224459],\n",
       "       [134307.35      , 124781.17620402],\n",
       "       [101004.64      , 101217.77951759],\n",
       "       [108552.04      , 113863.68825244]])"
      ]
     },
     "execution_count": 24,
     "metadata": {},
     "output_type": "execute_result"
    }
   ],
   "source": [
    "gabung2 = np.concatenate((ym2_test, ym2_pred), axis = 1)\n",
    "gabung2"
   ]
  },
  {
   "cell_type": "code",
   "execution_count": 25,
   "metadata": {},
   "outputs": [
    {
     "name": "stdout",
     "output_type": "stream",
     "text": [
      "0.897134285307714\n"
     ]
    }
   ],
   "source": [
    "r2_mlr2 = r2_score(ym2_test, ym2_pred)\n",
    "print(r2_mlr2)"
   ]
  }
 ],
 "metadata": {
  "kernelspec": {
   "display_name": "Python 3.9.12 ('base')",
   "language": "python",
   "name": "python3"
  },
  "language_info": {
   "codemirror_mode": {
    "name": "ipython",
    "version": 3
   },
   "file_extension": ".py",
   "mimetype": "text/x-python",
   "name": "python",
   "nbconvert_exporter": "python",
   "pygments_lexer": "ipython3",
   "version": "3.9.12"
  },
  "orig_nbformat": 4,
  "vscode": {
   "interpreter": {
    "hash": "2bc50807b50fc9c50b27dc9f778eb3a8b7bf061a06d2aafe1102622ff0f45480"
   }
  }
 },
 "nbformat": 4,
 "nbformat_minor": 2
}
