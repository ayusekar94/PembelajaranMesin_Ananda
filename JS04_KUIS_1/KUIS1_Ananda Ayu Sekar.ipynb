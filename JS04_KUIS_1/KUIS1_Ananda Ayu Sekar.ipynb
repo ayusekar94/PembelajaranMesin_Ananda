{
 "cells": [
  {
   "cell_type": "markdown",
   "metadata": {},
   "source": [
    "# Kuis 1\n",
    "\n",
    "NIM     : 2041720140 <br>\n",
    "Nama    : Ananda Ayu Sekar Wiranti <br>\n",
    "Kelas   : TI-3A / 02 <br>"
   ]
  },
  {
   "cell_type": "markdown",
   "metadata": {},
   "source": [
    "## _Medical Insurance Costs_\n",
    "\n",
    "Pada kasus ini, terdapat data tentang informasi kesehatan dan biaya yang harus dikeluarkan oleh asuransi kesehatan. Infomasi terkait dengan data _medical insurance cost_ adalah sebagai berikut,\n",
    "\n",
    "1. Age: Usia penerima manfaat\n",
    "2. Sex: Gender penerima manfaat (_male_, _femele_)\n",
    "3. Bmi : Body Mass Index\n",
    "4. Children: Jumlah anak/tanggungan yang dicover oleh pihak asuransi\n",
    "5. Smoker: Status perokok (_yes_, _no_)\n",
    "6. Region: Wilayah tempat tinggal penerima manfaat\n",
    "7. Charges: Biaya yang dikeluarkan oleh asuransi"
   ]
  },
  {
   "cell_type": "code",
   "execution_count": 150,
   "metadata": {},
   "outputs": [
    {
     "data": {
      "text/html": [
       "<div>\n",
       "<style scoped>\n",
       "    .dataframe tbody tr th:only-of-type {\n",
       "        vertical-align: middle;\n",
       "    }\n",
       "\n",
       "    .dataframe tbody tr th {\n",
       "        vertical-align: top;\n",
       "    }\n",
       "\n",
       "    .dataframe thead th {\n",
       "        text-align: right;\n",
       "    }\n",
       "</style>\n",
       "<table border=\"1\" class=\"dataframe\">\n",
       "  <thead>\n",
       "    <tr style=\"text-align: right;\">\n",
       "      <th></th>\n",
       "      <th>age</th>\n",
       "      <th>sex</th>\n",
       "      <th>bmi</th>\n",
       "      <th>children</th>\n",
       "      <th>smoker</th>\n",
       "      <th>region</th>\n",
       "      <th>charges</th>\n",
       "    </tr>\n",
       "  </thead>\n",
       "  <tbody>\n",
       "    <tr>\n",
       "      <th>0</th>\n",
       "      <td>19</td>\n",
       "      <td>female</td>\n",
       "      <td>27.900</td>\n",
       "      <td>0</td>\n",
       "      <td>yes</td>\n",
       "      <td>southwest</td>\n",
       "      <td>16884.92400</td>\n",
       "    </tr>\n",
       "    <tr>\n",
       "      <th>1</th>\n",
       "      <td>18</td>\n",
       "      <td>male</td>\n",
       "      <td>33.770</td>\n",
       "      <td>1</td>\n",
       "      <td>no</td>\n",
       "      <td>southeast</td>\n",
       "      <td>1725.55230</td>\n",
       "    </tr>\n",
       "    <tr>\n",
       "      <th>2</th>\n",
       "      <td>28</td>\n",
       "      <td>male</td>\n",
       "      <td>33.000</td>\n",
       "      <td>3</td>\n",
       "      <td>no</td>\n",
       "      <td>southeast</td>\n",
       "      <td>4449.46200</td>\n",
       "    </tr>\n",
       "    <tr>\n",
       "      <th>3</th>\n",
       "      <td>33</td>\n",
       "      <td>male</td>\n",
       "      <td>22.705</td>\n",
       "      <td>0</td>\n",
       "      <td>no</td>\n",
       "      <td>northwest</td>\n",
       "      <td>21984.47061</td>\n",
       "    </tr>\n",
       "    <tr>\n",
       "      <th>4</th>\n",
       "      <td>32</td>\n",
       "      <td>male</td>\n",
       "      <td>28.880</td>\n",
       "      <td>0</td>\n",
       "      <td>no</td>\n",
       "      <td>northwest</td>\n",
       "      <td>3866.85520</td>\n",
       "    </tr>\n",
       "  </tbody>\n",
       "</table>\n",
       "</div>"
      ],
      "text/plain": [
       "   age     sex     bmi  children smoker     region      charges\n",
       "0   19  female  27.900         0    yes  southwest  16884.92400\n",
       "1   18    male  33.770         1     no  southeast   1725.55230\n",
       "2   28    male  33.000         3     no  southeast   4449.46200\n",
       "3   33    male  22.705         0     no  northwest  21984.47061\n",
       "4   32    male  28.880         0     no  northwest   3866.85520"
      ]
     },
     "metadata": {},
     "output_type": "display_data"
    },
    {
     "data": {
      "text/html": [
       "<div>\n",
       "<style scoped>\n",
       "    .dataframe tbody tr th:only-of-type {\n",
       "        vertical-align: middle;\n",
       "    }\n",
       "\n",
       "    .dataframe tbody tr th {\n",
       "        vertical-align: top;\n",
       "    }\n",
       "\n",
       "    .dataframe thead th {\n",
       "        text-align: right;\n",
       "    }\n",
       "</style>\n",
       "<table border=\"1\" class=\"dataframe\">\n",
       "  <thead>\n",
       "    <tr style=\"text-align: right;\">\n",
       "      <th></th>\n",
       "      <th>age</th>\n",
       "      <th>bmi</th>\n",
       "      <th>children</th>\n",
       "      <th>charges</th>\n",
       "    </tr>\n",
       "  </thead>\n",
       "  <tbody>\n",
       "    <tr>\n",
       "      <th>age</th>\n",
       "      <td>1.000000</td>\n",
       "      <td>0.109272</td>\n",
       "      <td>0.042469</td>\n",
       "      <td>0.299008</td>\n",
       "    </tr>\n",
       "    <tr>\n",
       "      <th>bmi</th>\n",
       "      <td>0.109272</td>\n",
       "      <td>1.000000</td>\n",
       "      <td>0.012759</td>\n",
       "      <td>0.198341</td>\n",
       "    </tr>\n",
       "    <tr>\n",
       "      <th>children</th>\n",
       "      <td>0.042469</td>\n",
       "      <td>0.012759</td>\n",
       "      <td>1.000000</td>\n",
       "      <td>0.067998</td>\n",
       "    </tr>\n",
       "    <tr>\n",
       "      <th>charges</th>\n",
       "      <td>0.299008</td>\n",
       "      <td>0.198341</td>\n",
       "      <td>0.067998</td>\n",
       "      <td>1.000000</td>\n",
       "    </tr>\n",
       "  </tbody>\n",
       "</table>\n",
       "</div>"
      ],
      "text/plain": [
       "               age       bmi  children   charges\n",
       "age       1.000000  0.109272  0.042469  0.299008\n",
       "bmi       0.109272  1.000000  0.012759  0.198341\n",
       "children  0.042469  0.012759  1.000000  0.067998\n",
       "charges   0.299008  0.198341  0.067998  1.000000"
      ]
     },
     "metadata": {},
     "output_type": "display_data"
    }
   ],
   "source": [
    "# Selayang pandang data Medical Insurance Costs\n",
    "import pandas as pd\n",
    "\n",
    "df = pd.read_csv('data/insurance.csv')\n",
    "\n",
    "display(df.head())\n",
    "\n",
    "display(df.corr())"
   ]
  },
  {
   "cell_type": "markdown",
   "metadata": {},
   "source": [
    "### Tantangan\n",
    "\n",
    "Buatlah model regresi untuk memprediksi biaya yang harus dikeluarkan oleh pihak asuransi berdasarkan data. Validasi performa model regresi Anda dengan nilai ***R-squared ($R^2$)***\n",
    "\n",
    "#### _Tasks_\n",
    "\n",
    "1. Pastikan semua variabel kategorial diolah dengan baik. (Gunakan fitur mapping pada pandas)\n",
    "2. Cek kondisi multicollinearity untuk semua variabel independen. Jika ada, antar variabel apakah itu?\n",
    "3. Pastikan model menggunakan variabel yang tidak memiliki nilai multicollinearity yang tinggi\n",
    "4. (Hints) Anda dapat menggunakan nilai ***Variance Inflation Factor (VIF)*** untuk mengetahui tingkat multicollinearity pada sebuah variabel independent.\n",
    "5. Evaluasi model yang Anda buat dengan nilai $R^2$\n",
    "6. Simpulkan, variabel independen apa saja yang dapat digunakan untuk menghasilkan model regresi yang baik pada kasus _medical insurance costs_?"
   ]
  },
  {
   "cell_type": "markdown",
   "metadata": {},
   "source": [
    "#### (Hints) Interpretasi Nilai VIF\n",
    "\n",
    "- 1 - variabel indenpenden tidak memiliki korelasi dengan variabel independen yang lain\n",
    "- 1 < VIF < 5 - variabel independen sedikit memiliki korelasi dengan variabel independen yang lain\n",
    "- VIF > 5 - variabel independen memiliki korelasi yang kuat dengan variabel independen lainnya\n",
    "- VIF > 10 - variabel independen miliki korelasi yang sangat kuat dengan variabel independen dan perlu diperhatikan lebih lanjut\n",
    "\n",
    "#### (Hints) Implementasi Perhitungan VIF\n",
    "\n",
    "VIF dapat dihitung secara langsung dengan menggunakan library dari `statsmodels`"
   ]
  },
  {
   "cell_type": "markdown",
   "metadata": {},
   "source": [
    "#### (Hints) Scatterplot Korelasi Antar Variabel\n",
    "\n",
    "![var_cor](assets/var_corr.png)"
   ]
  },
  {
   "cell_type": "markdown",
   "metadata": {},
   "source": [
    "# Jawaban kuis"
   ]
  },
  {
   "cell_type": "code",
   "execution_count": 151,
   "metadata": {},
   "outputs": [],
   "source": [
    "import numpy as np\n",
    "\n",
    "from sklearn.linear_model import LinearRegression\n",
    "from sklearn.model_selection import train_test_split\n",
    "from sklearn.metrics import mean_absolute_error, mean_squared_error, r2_score"
   ]
  },
  {
   "cell_type": "code",
   "execution_count": 152,
   "metadata": {},
   "outputs": [
    {
     "name": "stdout",
     "output_type": "stream",
     "text": [
      "<class 'pandas.core.frame.DataFrame'>\n",
      "RangeIndex: 1338 entries, 0 to 1337\n",
      "Data columns (total 7 columns):\n",
      " #   Column    Non-Null Count  Dtype  \n",
      "---  ------    --------------  -----  \n",
      " 0   age       1338 non-null   int64  \n",
      " 1   sex       1338 non-null   object \n",
      " 2   bmi       1338 non-null   float64\n",
      " 3   children  1338 non-null   int64  \n",
      " 4   smoker    1338 non-null   object \n",
      " 5   region    1338 non-null   object \n",
      " 6   charges   1338 non-null   float64\n",
      "dtypes: float64(2), int64(2), object(3)\n",
      "memory usage: 73.3+ KB\n",
      "None\n",
      "\n",
      "\n",
      "               age          bmi     children       charges\n",
      "count  1338.000000  1338.000000  1338.000000   1338.000000\n",
      "mean     39.207025    30.663397     1.094918  13270.422265\n",
      "std      14.049960     6.098187     1.205493  12110.011237\n",
      "min      18.000000    15.960000     0.000000   1121.873900\n",
      "25%      27.000000    26.296250     0.000000   4740.287150\n",
      "50%      39.000000    30.400000     1.000000   9382.033000\n",
      "75%      51.000000    34.693750     2.000000  16639.912515\n",
      "max      64.000000    53.130000     5.000000  63770.428010\n"
     ]
    }
   ],
   "source": [
    "print(df.info())\n",
    "print('\\n')\n",
    "\n",
    "print(df.describe())"
   ]
  },
  {
   "cell_type": "markdown",
   "metadata": {},
   "source": [
    "#### _Soal_\n",
    "\n",
    "1. Pastikan semua variabel kategorial diolah dengan baik. (Gunakan fitur mapping pada pandas)"
   ]
  },
  {
   "cell_type": "code",
   "execution_count": 153,
   "metadata": {},
   "outputs": [
    {
     "data": {
      "text/html": [
       "<div>\n",
       "<style scoped>\n",
       "    .dataframe tbody tr th:only-of-type {\n",
       "        vertical-align: middle;\n",
       "    }\n",
       "\n",
       "    .dataframe tbody tr th {\n",
       "        vertical-align: top;\n",
       "    }\n",
       "\n",
       "    .dataframe thead th {\n",
       "        text-align: right;\n",
       "    }\n",
       "</style>\n",
       "<table border=\"1\" class=\"dataframe\">\n",
       "  <thead>\n",
       "    <tr style=\"text-align: right;\">\n",
       "      <th></th>\n",
       "      <th>age</th>\n",
       "      <th>sex</th>\n",
       "      <th>bmi</th>\n",
       "      <th>children</th>\n",
       "      <th>smoker</th>\n",
       "      <th>region</th>\n",
       "      <th>charges</th>\n",
       "    </tr>\n",
       "  </thead>\n",
       "  <tbody>\n",
       "    <tr>\n",
       "      <th>0</th>\n",
       "      <td>19</td>\n",
       "      <td>1</td>\n",
       "      <td>27.900</td>\n",
       "      <td>0</td>\n",
       "      <td>1</td>\n",
       "      <td>1</td>\n",
       "      <td>16884.92400</td>\n",
       "    </tr>\n",
       "    <tr>\n",
       "      <th>1</th>\n",
       "      <td>18</td>\n",
       "      <td>0</td>\n",
       "      <td>33.770</td>\n",
       "      <td>1</td>\n",
       "      <td>0</td>\n",
       "      <td>2</td>\n",
       "      <td>1725.55230</td>\n",
       "    </tr>\n",
       "    <tr>\n",
       "      <th>2</th>\n",
       "      <td>28</td>\n",
       "      <td>0</td>\n",
       "      <td>33.000</td>\n",
       "      <td>3</td>\n",
       "      <td>0</td>\n",
       "      <td>2</td>\n",
       "      <td>4449.46200</td>\n",
       "    </tr>\n",
       "    <tr>\n",
       "      <th>3</th>\n",
       "      <td>33</td>\n",
       "      <td>0</td>\n",
       "      <td>22.705</td>\n",
       "      <td>0</td>\n",
       "      <td>0</td>\n",
       "      <td>3</td>\n",
       "      <td>21984.47061</td>\n",
       "    </tr>\n",
       "    <tr>\n",
       "      <th>4</th>\n",
       "      <td>32</td>\n",
       "      <td>0</td>\n",
       "      <td>28.880</td>\n",
       "      <td>0</td>\n",
       "      <td>0</td>\n",
       "      <td>3</td>\n",
       "      <td>3866.85520</td>\n",
       "    </tr>\n",
       "  </tbody>\n",
       "</table>\n",
       "</div>"
      ],
      "text/plain": [
       "   age  sex     bmi  children  smoker  region      charges\n",
       "0   19    1  27.900         0       1       1  16884.92400\n",
       "1   18    0  33.770         1       0       2   1725.55230\n",
       "2   28    0  33.000         3       0       2   4449.46200\n",
       "3   33    0  22.705         0       0       3  21984.47061\n",
       "4   32    0  28.880         0       0       3   3866.85520"
      ]
     },
     "execution_count": 153,
     "metadata": {},
     "output_type": "execute_result"
    }
   ],
   "source": [
    "# Replacing string values to numbers\n",
    "df['sex'] = df['sex'].apply({'male':0, 'female':1}.get) \n",
    "df['smoker'] = df['smoker'].apply({'yes':1, 'no':0}.get)\n",
    "df['region'] = df['region'].apply({'southwest':1, 'southeast':2, 'northwest':3, 'northeast':4}.get)\n",
    "\n",
    "# Cek data\n",
    "df.head()"
   ]
  },
  {
   "cell_type": "markdown",
   "metadata": {},
   "source": [
    "#### _Soal_\n",
    "\n",
    "2. Cek kondisi multicollinearity untuk semua variabel independen. Jika ada, antar variabel apakah itu?\n",
    "3. Pastikan model menggunakan variabel yang tidak memiliki nilai multicollinearity yang tinggi\n",
    "4. (Hints) Anda dapat menggunakan nilai ***Variance Inflation Factor (VIF)*** untuk mengetahui tingkat multicollinearity pada sebuah variabel independent."
   ]
  },
  {
   "cell_type": "code",
   "execution_count": 154,
   "metadata": {},
   "outputs": [
    {
     "name": "stdout",
     "output_type": "stream",
     "text": [
      "    feature        VIF\n",
      "0       age   7.966654\n",
      "1       bmi  10.062762\n",
      "2    region   4.866264\n",
      "3       sex   1.926450\n",
      "4    smoker   1.254323\n",
      "5  children   1.801892\n"
     ]
    }
   ],
   "source": [
    "from statsmodels.stats.outliers_influence import variance_inflation_factor\n",
    "  \n",
    "# the independent variables set\n",
    "X = df[['age', 'bmi', 'region','sex', 'smoker', 'children']]\n",
    "  \n",
    "# VIF dataframe\n",
    "vif_data = pd.DataFrame()\n",
    "vif_data[\"feature\"] = X.columns\n",
    "  \n",
    "# calculating VIF for each feature\n",
    "vif_data[\"VIF\"] = [variance_inflation_factor(X.values, i)\n",
    "                          for i in range(len(X.columns))]\n",
    "  \n",
    "print(vif_data)"
   ]
  },
  {
   "cell_type": "code",
   "execution_count": 155,
   "metadata": {},
   "outputs": [
    {
     "data": {
      "text/html": [
       "<div>\n",
       "<style scoped>\n",
       "    .dataframe tbody tr th:only-of-type {\n",
       "        vertical-align: middle;\n",
       "    }\n",
       "\n",
       "    .dataframe tbody tr th {\n",
       "        vertical-align: top;\n",
       "    }\n",
       "\n",
       "    .dataframe thead th {\n",
       "        text-align: right;\n",
       "    }\n",
       "</style>\n",
       "<table border=\"1\" class=\"dataframe\">\n",
       "  <thead>\n",
       "    <tr style=\"text-align: right;\">\n",
       "      <th></th>\n",
       "      <th>age</th>\n",
       "      <th>sex</th>\n",
       "      <th>bmi</th>\n",
       "      <th>children</th>\n",
       "      <th>smoker</th>\n",
       "      <th>region</th>\n",
       "      <th>charges</th>\n",
       "    </tr>\n",
       "  </thead>\n",
       "  <tbody>\n",
       "    <tr>\n",
       "      <th>0</th>\n",
       "      <td>19</td>\n",
       "      <td>1</td>\n",
       "      <td>27.900</td>\n",
       "      <td>0</td>\n",
       "      <td>1</td>\n",
       "      <td>1</td>\n",
       "      <td>16884.92400</td>\n",
       "    </tr>\n",
       "    <tr>\n",
       "      <th>1</th>\n",
       "      <td>18</td>\n",
       "      <td>0</td>\n",
       "      <td>33.770</td>\n",
       "      <td>1</td>\n",
       "      <td>0</td>\n",
       "      <td>2</td>\n",
       "      <td>1725.55230</td>\n",
       "    </tr>\n",
       "    <tr>\n",
       "      <th>2</th>\n",
       "      <td>28</td>\n",
       "      <td>0</td>\n",
       "      <td>33.000</td>\n",
       "      <td>3</td>\n",
       "      <td>0</td>\n",
       "      <td>2</td>\n",
       "      <td>4449.46200</td>\n",
       "    </tr>\n",
       "    <tr>\n",
       "      <th>3</th>\n",
       "      <td>33</td>\n",
       "      <td>0</td>\n",
       "      <td>22.705</td>\n",
       "      <td>0</td>\n",
       "      <td>0</td>\n",
       "      <td>3</td>\n",
       "      <td>21984.47061</td>\n",
       "    </tr>\n",
       "    <tr>\n",
       "      <th>4</th>\n",
       "      <td>32</td>\n",
       "      <td>0</td>\n",
       "      <td>28.880</td>\n",
       "      <td>0</td>\n",
       "      <td>0</td>\n",
       "      <td>3</td>\n",
       "      <td>3866.85520</td>\n",
       "    </tr>\n",
       "  </tbody>\n",
       "</table>\n",
       "</div>"
      ],
      "text/plain": [
       "   age  sex     bmi  children  smoker  region      charges\n",
       "0   19    1  27.900         0       1       1  16884.92400\n",
       "1   18    0  33.770         1       0       2   1725.55230\n",
       "2   28    0  33.000         3       0       2   4449.46200\n",
       "3   33    0  22.705         0       0       3  21984.47061\n",
       "4   32    0  28.880         0       0       3   3866.85520"
      ]
     },
     "execution_count": 155,
     "metadata": {},
     "output_type": "execute_result"
    }
   ],
   "source": [
    "#Untuk data frame di copy sebelum dilakukan penghapusan pada kolom 'age' dan 'bmi'\n",
    "data_df = df.copy()\n",
    "data_df.head()"
   ]
  },
  {
   "cell_type": "code",
   "execution_count": 156,
   "metadata": {},
   "outputs": [
    {
     "data": {
      "text/html": [
       "<div>\n",
       "<style scoped>\n",
       "    .dataframe tbody tr th:only-of-type {\n",
       "        vertical-align: middle;\n",
       "    }\n",
       "\n",
       "    .dataframe tbody tr th {\n",
       "        vertical-align: top;\n",
       "    }\n",
       "\n",
       "    .dataframe thead th {\n",
       "        text-align: right;\n",
       "    }\n",
       "</style>\n",
       "<table border=\"1\" class=\"dataframe\">\n",
       "  <thead>\n",
       "    <tr style=\"text-align: right;\">\n",
       "      <th></th>\n",
       "      <th>sex</th>\n",
       "      <th>children</th>\n",
       "      <th>smoker</th>\n",
       "      <th>region</th>\n",
       "      <th>charges</th>\n",
       "    </tr>\n",
       "  </thead>\n",
       "  <tbody>\n",
       "    <tr>\n",
       "      <th>0</th>\n",
       "      <td>1</td>\n",
       "      <td>0</td>\n",
       "      <td>1</td>\n",
       "      <td>1</td>\n",
       "      <td>16884.92400</td>\n",
       "    </tr>\n",
       "    <tr>\n",
       "      <th>1</th>\n",
       "      <td>0</td>\n",
       "      <td>1</td>\n",
       "      <td>0</td>\n",
       "      <td>2</td>\n",
       "      <td>1725.55230</td>\n",
       "    </tr>\n",
       "    <tr>\n",
       "      <th>2</th>\n",
       "      <td>0</td>\n",
       "      <td>3</td>\n",
       "      <td>0</td>\n",
       "      <td>2</td>\n",
       "      <td>4449.46200</td>\n",
       "    </tr>\n",
       "    <tr>\n",
       "      <th>3</th>\n",
       "      <td>0</td>\n",
       "      <td>0</td>\n",
       "      <td>0</td>\n",
       "      <td>3</td>\n",
       "      <td>21984.47061</td>\n",
       "    </tr>\n",
       "    <tr>\n",
       "      <th>4</th>\n",
       "      <td>0</td>\n",
       "      <td>0</td>\n",
       "      <td>0</td>\n",
       "      <td>3</td>\n",
       "      <td>3866.85520</td>\n",
       "    </tr>\n",
       "  </tbody>\n",
       "</table>\n",
       "</div>"
      ],
      "text/plain": [
       "   sex  children  smoker  region      charges\n",
       "0    1         0       1       1  16884.92400\n",
       "1    0         1       0       2   1725.55230\n",
       "2    0         3       0       2   4449.46200\n",
       "3    0         0       0       3  21984.47061\n",
       "4    0         0       0       3   3866.85520"
      ]
     },
     "execution_count": 156,
     "metadata": {},
     "output_type": "execute_result"
    }
   ],
   "source": [
    "#Melakukan penghapusan kolom \"age\" dan \"bmi\"\n",
    "data_df = data_df.drop(columns=['age', 'bmi'])\n",
    "data_df.head()"
   ]
  },
  {
   "cell_type": "code",
   "execution_count": 157,
   "metadata": {},
   "outputs": [
    {
     "data": {
      "text/plain": [
       "<seaborn.axisgrid.JointGrid at 0x1362ed774f0>"
      ]
     },
     "execution_count": 157,
     "metadata": {},
     "output_type": "execute_result"
    },
    {
     "data": {
      "image/png": "[encoded data removed]",
      "text/plain": [
       "<Figure size 432x432 with 3 Axes>"
      ]
     },
     "metadata": {
      "needs_background": "light"
     },
     "output_type": "display_data"
    }
   ],
   "source": [
    "import seaborn as sns\n",
    "\n",
    "# Correlation betweeen 'charges' and 'age' \n",
    "sns.jointplot(x=df['age'],y=df['charges'])"
   ]
  },
  {
   "cell_type": "code",
   "execution_count": 158,
   "metadata": {},
   "outputs": [
    {
     "data": {
      "text/plain": [
       "<seaborn.axisgrid.JointGrid at 0x1362fdfff70>"
      ]
     },
     "execution_count": 158,
     "metadata": {},
     "output_type": "execute_result"
    },
    {
     "data": {
      "image/png": "[encoded data removed]",
      "text/plain": [
       "<Figure size 432x432 with 3 Axes>"
      ]
     },
     "metadata": {
      "needs_background": "light"
     },
     "output_type": "display_data"
    }
   ],
   "source": [
    "# Correlation betweeen 'charges' and 'smoker' \n",
    "sns.jointplot(x=df['age'],y=df['charges'])"
   ]
  },
  {
   "cell_type": "code",
   "execution_count": 159,
   "metadata": {},
   "outputs": [],
   "source": [
    "# features\n",
    "X = df[['age', 'sex', 'bmi', 'children','smoker','region']]\n",
    "\n",
    "# predicted variable\n",
    "y = df['charges']"
   ]
  },
  {
   "cell_type": "code",
   "execution_count": 160,
   "metadata": {},
   "outputs": [
    {
     "data": {
      "text/html": [
       "<div>\n",
       "<style scoped>\n",
       "    .dataframe tbody tr th:only-of-type {\n",
       "        vertical-align: middle;\n",
       "    }\n",
       "\n",
       "    .dataframe tbody tr th {\n",
       "        vertical-align: top;\n",
       "    }\n",
       "\n",
       "    .dataframe thead th {\n",
       "        text-align: right;\n",
       "    }\n",
       "</style>\n",
       "<table border=\"1\" class=\"dataframe\">\n",
       "  <thead>\n",
       "    <tr style=\"text-align: right;\">\n",
       "      <th></th>\n",
       "      <th>age</th>\n",
       "      <th>sex</th>\n",
       "      <th>bmi</th>\n",
       "      <th>children</th>\n",
       "      <th>smoker</th>\n",
       "      <th>region</th>\n",
       "    </tr>\n",
       "  </thead>\n",
       "  <tbody>\n",
       "    <tr>\n",
       "      <th>0</th>\n",
       "      <td>19</td>\n",
       "      <td>1</td>\n",
       "      <td>27.900</td>\n",
       "      <td>0</td>\n",
       "      <td>1</td>\n",
       "      <td>1</td>\n",
       "    </tr>\n",
       "    <tr>\n",
       "      <th>1</th>\n",
       "      <td>18</td>\n",
       "      <td>0</td>\n",
       "      <td>33.770</td>\n",
       "      <td>1</td>\n",
       "      <td>0</td>\n",
       "      <td>2</td>\n",
       "    </tr>\n",
       "    <tr>\n",
       "      <th>2</th>\n",
       "      <td>28</td>\n",
       "      <td>0</td>\n",
       "      <td>33.000</td>\n",
       "      <td>3</td>\n",
       "      <td>0</td>\n",
       "      <td>2</td>\n",
       "    </tr>\n",
       "    <tr>\n",
       "      <th>3</th>\n",
       "      <td>33</td>\n",
       "      <td>0</td>\n",
       "      <td>22.705</td>\n",
       "      <td>0</td>\n",
       "      <td>0</td>\n",
       "      <td>3</td>\n",
       "    </tr>\n",
       "    <tr>\n",
       "      <th>4</th>\n",
       "      <td>32</td>\n",
       "      <td>0</td>\n",
       "      <td>28.880</td>\n",
       "      <td>0</td>\n",
       "      <td>0</td>\n",
       "      <td>3</td>\n",
       "    </tr>\n",
       "  </tbody>\n",
       "</table>\n",
       "</div>"
      ],
      "text/plain": [
       "   age  sex     bmi  children  smoker  region\n",
       "0   19    1  27.900         0       1       1\n",
       "1   18    0  33.770         1       0       2\n",
       "2   28    0  33.000         3       0       2\n",
       "3   33    0  22.705         0       0       3\n",
       "4   32    0  28.880         0       0       3"
      ]
     },
     "execution_count": 160,
     "metadata": {},
     "output_type": "execute_result"
    }
   ],
   "source": [
    "X.head()"
   ]
  },
  {
   "cell_type": "code",
   "execution_count": 161,
   "metadata": {},
   "outputs": [],
   "source": [
    "# importing train_test_split model\n",
    "from sklearn.model_selection import train_test_split\n",
    "\n",
    "# splitting train and test data\n",
    "X_train, X_test, y_train, y_test = train_test_split(X, y, test_size=0.4)"
   ]
  },
  {
   "cell_type": "code",
   "execution_count": 162,
   "metadata": {},
   "outputs": [
    {
     "data": {
      "text/plain": [
       "1338"
      ]
     },
     "execution_count": 162,
     "metadata": {},
     "output_type": "execute_result"
    }
   ],
   "source": [
    "len(X_test) # 402\n",
    "len(X_train) # 936\n",
    "len(df) # 1338"
   ]
  },
  {
   "cell_type": "code",
   "execution_count": 163,
   "metadata": {},
   "outputs": [
    {
     "data": {
      "text/plain": [
       "LinearRegression()"
      ]
     },
     "execution_count": 163,
     "metadata": {},
     "output_type": "execute_result"
    }
   ],
   "source": [
    "data = LinearRegression()\n",
    "# Fit linear model by passing training dataset\n",
    "data.fit(X_train,y_train)"
   ]
  },
  {
   "cell_type": "code",
   "execution_count": 164,
   "metadata": {},
   "outputs": [
    {
     "data": {
      "text/plain": [
       "array([ 3317.3609977 , 12860.19713651, 30611.1936918 ,  6651.92686074,\n",
       "       13137.92985243])"
      ]
     },
     "execution_count": 164,
     "metadata": {},
     "output_type": "execute_result"
    }
   ],
   "source": [
    "# Predicting the target variable for test datset\n",
    "prediction = data.predict(X_test)\n",
    "\n",
    "prediction[0:5]"
   ]
  },
  {
   "cell_type": "code",
   "execution_count": 165,
   "metadata": {},
   "outputs": [
    {
     "data": {
      "text/plain": [
       "Text(0, 0.5, 'Predicted Y')"
      ]
     },
     "execution_count": 165,
     "metadata": {},
     "output_type": "execute_result"
    },
    {
     "data": {
      "image/png": "[encoded data removed]",
      "text/plain": [
       "<Figure size 432x288 with 1 Axes>"
      ]
     },
     "metadata": {
      "needs_background": "light"
     },
     "output_type": "display_data"
    }
   ],
   "source": [
    "import matplotlib.pyplot as plt\n",
    "\n",
    "plt.scatter(y_test,prediction)\n",
    "plt.xlabel('Y Test')\n",
    "plt.ylabel('Predicted Y')"
   ]
  },
  {
   "cell_type": "code",
   "execution_count": 166,
   "metadata": {},
   "outputs": [
    {
     "data": {
      "text/html": [
       "<div>\n",
       "<style scoped>\n",
       "    .dataframe tbody tr th:only-of-type {\n",
       "        vertical-align: middle;\n",
       "    }\n",
       "\n",
       "    .dataframe tbody tr th {\n",
       "        vertical-align: top;\n",
       "    }\n",
       "\n",
       "    .dataframe thead th {\n",
       "        text-align: right;\n",
       "    }\n",
       "</style>\n",
       "<table border=\"1\" class=\"dataframe\">\n",
       "  <thead>\n",
       "    <tr style=\"text-align: right;\">\n",
       "      <th></th>\n",
       "      <th>age</th>\n",
       "      <th>sex</th>\n",
       "      <th>bmi</th>\n",
       "      <th>children</th>\n",
       "      <th>smoker</th>\n",
       "      <th>region</th>\n",
       "    </tr>\n",
       "  </thead>\n",
       "  <tbody>\n",
       "    <tr>\n",
       "      <th>1</th>\n",
       "      <td>40</td>\n",
       "      <td>1</td>\n",
       "      <td>45.5</td>\n",
       "      <td>4</td>\n",
       "      <td>1</td>\n",
       "      <td>3</td>\n",
       "    </tr>\n",
       "  </tbody>\n",
       "</table>\n",
       "</div>"
      ],
      "text/plain": [
       "   age  sex   bmi  children  smoker  region\n",
       "1   40    1  45.5         4       1       3"
      ]
     },
     "execution_count": 166,
     "metadata": {},
     "output_type": "execute_result"
    }
   ],
   "source": [
    "# Predict charges for new customer : Name- Frank\n",
    "data2 = {'age' : 40,\n",
    "        'sex' : 1,\n",
    "        'bmi' : 45.50,\n",
    "        'children' : 4,\n",
    "        'smoker' : 1,\n",
    "        'region' : 3}\n",
    "index = [1]\n",
    "frank = pd.DataFrame(data2,index)\n",
    "frank"
   ]
  },
  {
   "cell_type": "code",
   "execution_count": 167,
   "metadata": {},
   "outputs": [
    {
     "name": "stdout",
     "output_type": "stream",
     "text": [
      "Medical Insurance cost for Frank is :  [38434.41054301]\n"
     ]
    }
   ],
   "source": [
    "prediction_frank = data.predict(frank)\n",
    "print(\"Medical Insurance cost for Frank is : \",prediction_frank)"
   ]
  },
  {
   "cell_type": "markdown",
   "metadata": {},
   "source": [
    "#### _Soal_\n",
    "\n",
    "5. Evaluasi model yang Anda buat dengan nilai $R^2$"
   ]
  },
  {
   "cell_type": "code",
   "execution_count": 169,
   "metadata": {},
   "outputs": [],
   "source": [
    "X = data_df.iloc[:, :-1].values\n",
    "y = data_df.iloc[:, -1].values"
   ]
  },
  {
   "cell_type": "code",
   "execution_count": 170,
   "metadata": {},
   "outputs": [],
   "source": [
    "Xm_train, Xm_test, ym_train, ym_test = train_test_split(X, y, test_size=0.2, random_state=50)"
   ]
  },
  {
   "cell_type": "code",
   "execution_count": 171,
   "metadata": {},
   "outputs": [
    {
     "data": {
      "text/plain": [
       "(1338, 1)"
      ]
     },
     "execution_count": 171,
     "metadata": {},
     "output_type": "execute_result"
    }
   ],
   "source": [
    "y = y.reshape(len(y), 1)\n",
    "y.shape"
   ]
  },
  {
   "cell_type": "code",
   "execution_count": 172,
   "metadata": {},
   "outputs": [],
   "source": [
    "mlr = LinearRegression()\n",
    "mlr.fit(Xm_train, ym_train)\n",
    "\n",
    "ym_pred = mlr.predict(Xm_test)"
   ]
  },
  {
   "cell_type": "code",
   "execution_count": 174,
   "metadata": {},
   "outputs": [
    {
     "data": {
      "text/plain": [
       "array([ 5976.8311    ,  5846.9176    , 13831.1152    ,  9625.92      ,\n",
       "        2680.9493    , 47896.79135   , 18223.4512    ,  7419.4779    ,\n",
       "        3732.6251    , 12222.8983    ,  7050.0213    , 21978.6769    ,\n",
       "        6282.235     , 37701.8768    ,  7046.7222    , 12032.326     ,\n",
       "       13112.6048    ,  4239.89265   , 12333.828     ,  3410.324     ,\n",
       "        1727.785     , 44641.1974    , 17128.42608   ,  6112.35295   ,\n",
       "        4529.477     , 10594.50155   ,  6402.29135   , 46151.1245    ,\n",
       "        1711.0268    ,  1704.70015   , 45863.205     ,  4687.797     ,\n",
       "       15019.76005   ,  3180.5101    ,  3861.20965   ,  3443.064     ,\n",
       "       27117.99378   ,  2709.24395   , 13451.122     , 47928.03      ,\n",
       "       23563.01618   ,  6710.1919    , 14235.072     , 14001.1338    ,\n",
       "       27218.43725   , 13390.559     , 41034.2214    ,  2020.177     ,\n",
       "       14256.1928    , 21232.18226   , 48675.5177    ,  6986.697     ,\n",
       "        4149.736     , 30942.1918    ,  8023.13545   , 42124.5153    ,\n",
       "       11837.16      ,  6640.54485   ,  6666.243     , 10848.1343    ,\n",
       "       14394.39815   ,  7201.70085   ,  1977.815     ,  1635.73365   ,\n",
       "        7256.7231    ,  8538.28845   ,  3857.75925   ,  9880.068     ,\n",
       "        4883.866     , 21797.0004    , 13880.949     ,  4779.6023    ,\n",
       "        3481.868     ,  5397.6167    ,  9583.8933    , 17081.08      ,\n",
       "        6600.361     ,  9715.841     , 24393.6224    ,  1631.8212    ,\n",
       "        2850.68375   , 18246.4955    ,  2457.502     , 12928.7911    ,\n",
       "        1967.0227    ,  2643.2685    , 11987.1682    ,  4877.98105   ,\n",
       "        3046.062     ,  4544.2348    ,  3736.4647    ,  8596.8278    ,\n",
       "        3756.6216    , 36021.0112    , 24520.264     , 11305.93455   ,\n",
       "        7512.267     , 12094.478     , 16297.846     , 23288.9284    ,\n",
       "       24671.66334   ,  2201.0971    , 43921.1837    , 14382.70905   ,\n",
       "       17179.522     ,  8547.6913    , 38709.176     ,  9957.7216    ,\n",
       "        9910.35985   ,  5649.715     ,  5488.262     ,  8988.15875   ,\n",
       "        1826.843     ,  1837.2819    ,  1639.5631    ,  4934.705     ,\n",
       "        5425.02335   , 28923.13692   , 14210.53595   , 24106.91255   ,\n",
       "        1526.312     ,  5327.40025   ,  1136.3994    ,  1625.43375   ,\n",
       "       11881.9696    ,  4536.259     ,  7281.5056    ,  8835.26495   ,\n",
       "        8062.764     ,  3591.48      , 48673.5588    , 11289.10925   ,\n",
       "       46200.9851    , 24227.33724   , 20234.85475   , 24869.8368    ,\n",
       "       20009.63365   ,  6555.07035   ,  8277.523     ,  4571.41305   ,\n",
       "       12622.1795    ,  4185.0979    ,  5312.16985   , 18804.7524    ,\n",
       "        6748.5912    ,  7162.0122    ,  5245.2269    ,  8515.7587    ,\n",
       "        6858.4796    ,  4349.462     , 40974.1649    ,  4433.9159    ,\n",
       "        1980.07      , 51194.55914   ,  2026.9741    , 27346.04207   ,\n",
       "       13126.67745   , 20462.99766   , 20296.86345   , 12244.531     ,\n",
       "        7740.337     ,  9778.3472    ,  5584.3057    , 10959.33      ,\n",
       "        2721.3208    ,  5003.853     ,  6796.86325   ,  1769.53165   ,\n",
       "       21348.706     ,  1622.1885    , 48885.13561   , 22493.65964   ,\n",
       "       12629.8967    ,  7337.748     , 39983.42595   ,  1391.5287    ,\n",
       "       41097.16175   ,  7682.67      , 37165.1638    ,  9563.029     ,\n",
       "       10214.636     , 12646.207     ,  5699.8375    , 11013.7119    ,\n",
       "       19442.3535    , 44423.803     , 42760.5022    ,  9301.89355   ,\n",
       "       39836.519     , 10156.7832    ,  4433.3877    , 37742.5757    ,\n",
       "        8782.469     , 11512.405     , 25517.11363   , 10806.839     ,\n",
       "       39774.2763    ,  5385.3379    ,  2128.43105   , 37270.1512    ,\n",
       "       33307.5508    , 12957.118     ,  7727.2532    , 11856.4115    ,\n",
       "        5729.0053    , 15820.699     ,  9447.3824    , 12638.195     ,\n",
       "       44260.7499    , 10977.2063    , 19107.7796    , 14988.432     ,\n",
       "        9630.397     , 47269.854     , 13063.883     ,  1824.2854    ,\n",
       "       11763.0009    ,  9861.025     , 36950.2567    ,  2103.08      ,\n",
       "        2198.18985   , 38415.474     ,  8627.5411    ,  4237.12655   ,\n",
       "        4441.21315   ,  9872.701     , 32108.66282   , 20878.78443   ,\n",
       "        2699.56835   ,  7731.85785   , 21082.16      ,  2730.10785   ,\n",
       "       11326.71487   ,  3925.7582    , 38282.7495    , 12235.8392    ,\n",
       "       10115.00885   ,  8932.084     , 14001.2867    , 35595.5898    ,\n",
       "       15230.32405   ,  6059.173     ,  2166.732     ,  8944.1151    ,\n",
       "        4058.1161    , 12323.936     , 33732.6867    ,  5375.038     ,\n",
       "        1972.95      , 10704.47      , 11842.62375   ,  3866.8552    ,\n",
       "        6128.79745   , 11070.535     , 10560.4917    , 11938.25595   ,\n",
       "       12741.16745   , 11729.6795    ,  2362.22905   ,  9500.57305   ,\n",
       "        6184.2994    , 13887.9685    , 13224.693     ,  3392.3652    ,\n",
       "        4931.647     ,  9724.53      , 36580.28216   , 37133.8982    ,\n",
       "        8227.90888454,  8820.00936382,  7774.5644616 ,  7615.0599068 ,\n",
       "        7795.31296007, 31315.52273566, 32458.22669726,  7656.55690374,\n",
       "        7677.30540221,  7656.55690374,  7677.30540221, 31412.78179504,\n",
       "        8345.9164424 , 31315.52273566,  8227.90888454,  8207.16038607,\n",
       "        8387.41343934,  8387.41343934,  8345.9164424 ,  8207.16038607,\n",
       "        7615.0599068 , 31907.62321493, 10184.46337564,  8248.65738302,\n",
       "        8799.26086534,  7795.31296007,  8861.50636076, 32596.98275359,\n",
       "        8366.66494087,  7816.06145854, 30681.92525944, 10575.56230317,\n",
       "        8840.75786229,  8820.00936382,  9592.36289637,  9530.11740095,\n",
       "        7635.80840527,  8248.65738302,  7615.0599068 , 31253.27724024,\n",
       "        8958.76542015,  8979.51391862,  8799.26086534,  9412.10984309,\n",
       "       30862.17831271,  7753.81596312, 31454.27879199,  7615.0599068 ,\n",
       "        7656.55690374,  7753.81596312, 31412.78179504,  8979.51391862,\n",
       "        8207.16038607, 32458.22669726,  8248.65738302, 32596.98275359,\n",
       "        7615.0599068 ,  9000.26241709, 10714.3183595 ,  8840.75786229,\n",
       "       10045.70731931,  8840.75786229,  7753.81596312,  7795.31296007,\n",
       "        8979.51391862,  9453.60684004,  7816.06145854,  8207.16038607,\n",
       "        7615.0599068 ,  7753.81596312,  7615.0599068 ,  8227.90888454,\n",
       "        9592.36289637,  7635.80840527,  8248.65738302, 30661.17676097,\n",
       "        8938.01692167,  8861.50636076, 30841.42981424,  7635.80840527,\n",
       "        7656.55690374, 30820.68131577,  7615.0599068 ,  8958.76542015,\n",
       "        7816.06145854,  8387.41343934,  9550.86589942, 10163.71487717,\n",
       "        7677.30540221,  7677.30540221,  7656.55690374, 10596.31080164,\n",
       "        7635.80840527, 31866.12621799, 31253.27724024,  8248.65738302,\n",
       "       10122.21788022,  9391.36134462, 30799.93281729,  8269.40588149,\n",
       "       10045.70731931,  8227.90888454, 30841.42981424,  9432.85834157,\n",
       "       31412.78179504,  8227.90888454, 31412.78179504,  8408.16193782,\n",
       "        8248.65738302,  7615.0599068 ,  8345.9164424 ,  7656.55690374,\n",
       "        7753.81596312,  7774.5644616 ,  7795.31296007,  8799.26086534,\n",
       "        9571.61439789,  7656.55690374,  7795.31296007, 32499.72369421,\n",
       "        7753.81596312,  8840.75786229,  7774.5644616 ,  7795.31296007,\n",
       "        8820.00936382,  8345.9164424 ,  9432.85834157,  7795.31296007,\n",
       "        8345.9164424 ,  9530.11740095, 30820.68131577,  9571.61439789,\n",
       "       31866.12621799,  7635.80840527, 30702.67375791, 32638.47975054,\n",
       "       31433.53029352,  8269.40588149,  7615.0599068 ,  7656.55690374,\n",
       "        7656.55690374,  7635.80840527,  9432.85834157,  9432.85834157,\n",
       "        9592.36289637,  8958.76542015,  8227.90888454,  8820.00936382,\n",
       "        8408.16193782,  8820.00936382, 30681.92525944,  8979.51391862,\n",
       "        8345.9164424 , 31392.03329657,  7635.80840527,  7774.5644616 ,\n",
       "        7615.0599068 ,  9412.10984309, 31315.52273566,  7635.80840527,\n",
       "        8938.01692167,  8269.40588149,  8958.76542015,  7753.81596312,\n",
       "        7816.06145854,  8207.16038607,  9571.61439789,  7795.31296007,\n",
       "       30702.67375791,  7635.80840527, 30681.92525944,  8979.51391862,\n",
       "        7635.80840527,  8207.16038607, 32478.97519574,  7774.5644616 ,\n",
       "       30862.17831271,  9412.10984309, 31412.78179504,  9530.11740095,\n",
       "        7753.81596312,  8799.26086534,  7774.5644616 ,  8958.76542015,\n",
       "        8979.51391862, 30681.92525944, 32025.63077279,  9571.61439789,\n",
       "       31845.37771952,  8840.75786229,  8979.51391862, 30820.68131577,\n",
       "        7753.81596312,  8269.40588149,  8408.16193782,  8799.26086534,\n",
       "       31454.27879199,  8248.65738302,  7656.55690374, 30723.42225639,\n",
       "       30702.67375791,  7753.81596312,  8248.65738302,  7635.80840527,\n",
       "        8979.51391862, 30799.93281729,  8269.40588149,  7615.0599068 ,\n",
       "       32004.88227432, 10004.21032237, 31274.02573871,  8938.01692167,\n",
       "        8938.01692167, 32004.88227432,  7615.0599068 ,  7774.5644616 ,\n",
       "        8408.16193782,  8207.16038607, 30820.68131577,  8345.9164424 ,\n",
       "        7677.30540221, 31984.13377584,  8408.16193782,  8408.16193782,\n",
       "        8408.16193782,  8207.16038607,  9000.26241709,  7677.30540221,\n",
       "        7795.31296007,  7656.55690374, 31392.03329657,  8248.65738302,\n",
       "        8366.66494087,  8861.50636076, 31412.78179504,  7656.55690374,\n",
       "        9432.85834157,  7615.0599068 ,  9412.10984309, 32458.22669726,\n",
       "        8861.50636076, 10122.21788022,  7615.0599068 ,  9550.86589942,\n",
       "        8958.76542015,  7816.06145854, 30862.17831271,  8799.26086534,\n",
       "        7753.81596312,  7615.0599068 ,  7656.55690374,  7795.31296007,\n",
       "        9432.85834157,  7615.0599068 ,  9550.86589942,  7816.06145854,\n",
       "        7816.06145854,  8861.50636076,  8387.41343934,  9592.36289637,\n",
       "        9412.10984309,  7635.80840527,  8207.16038607,  8227.90888454,\n",
       "        8799.26086534,  8345.9164424 , 10004.21032237, 30681.92525944])"
      ]
     },
     "execution_count": 174,
     "metadata": {},
     "output_type": "execute_result"
    }
   ],
   "source": [
    "gabung = np.concatenate((ym_test, ym_pred))\n",
    "gabung"
   ]
  },
  {
   "cell_type": "code",
   "execution_count": 175,
   "metadata": {},
   "outputs": [
    {
     "name": "stdout",
     "output_type": "stream",
     "text": [
      "0.6555329270408834\n"
     ]
    }
   ],
   "source": [
    "r2_mlr = r2_score(ym_test, ym_pred)\n",
    "print(r2_mlr)"
   ]
  },
  {
   "cell_type": "markdown",
   "metadata": {},
   "source": [
    "#### _Soal_\n",
    "\n",
    "6. Simpulkan, variabel independen apa saja yang dapat digunakan untuk menghasilkan model regresi yang baik pada kasus _medical insurance costs_?"
   ]
  },
  {
   "cell_type": "markdown",
   "metadata": {},
   "source": [
    "## Kesimpulan\n",
    "\n",
    "Dapat disimpulkan bahwa hasil dari keduannya sama-sama akurat tetapi dengan menggunakan r2 hasil lebih baik karena hasil yang didapat lebih efektif."
   ]
  }
 ],
 "metadata": {
  "kernelspec": {
   "display_name": "Python 3.9.12 ('base')",
   "language": "python",
   "name": "python3"
  },
  "language_info": {
   "codemirror_mode": {
    "name": "ipython",
    "version": 3
   },
   "file_extension": ".py",
   "mimetype": "text/x-python",
   "name": "python",
   "nbconvert_exporter": "python",
   "pygments_lexer": "ipython3",
   "version": "3.9.12"
  },
  "orig_nbformat": 4,
  "vscode": {
   "interpreter": {
    "hash": "2bc50807b50fc9c50b27dc9f778eb3a8b7bf061a06d2aafe1102622ff0f45480"
   }
  }
 },
 "nbformat": 4,
 "nbformat_minor": 2
}
